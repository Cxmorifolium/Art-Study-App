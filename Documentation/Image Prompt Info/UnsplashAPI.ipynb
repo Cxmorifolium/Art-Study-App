{
 "cells": [
  {
   "cell_type": "markdown",
   "id": "48f8cd5b",
   "metadata": {},
   "source": [
    "Setting up [Unsplash API](https://unsplash.com/developers) requires a developer account with the service\n",
    "<break>\n",
    "\n",
    "The access key in this usage is bound to system environment variables for security."
   ]
  },
  {
   "cell_type": "markdown",
   "id": "9725f5ca",
   "metadata": {},
   "source": [
    "Unsplash Class:\n",
    "- BaseUrl: a constant used to hold base uRL for making requests\n",
    "- _httpClient: an instance of HttpClient used to make HTTP request\n",
    "- _accessKey: store API key used for authentication in API request"
   ]
  },
  {
   "cell_type": "code",
   "execution_count": null,
   "id": "a9b877d2",
   "metadata": {
    "vscode": {
     "languageId": "csharp"
    }
   },
   "outputs": [],
   "source": [
    "private const string BaseUrl = \"https://api.unsplash.com/\";\n",
    "private readonly HttpClient _httpClient;\n",
    "private readonly string _accessKey;"
   ]
  },
  {
   "cell_type": "markdown",
   "id": "350d47de",
   "metadata": {
    "vscode": {
     "languageId": "plaintext"
    }
   },
   "source": [
    "Unsplash Constructor:\n",
    "<break>\n",
    "\n",
    "This section retrieves the API key from the environment variable and makes requests"
   ]
  },
  {
   "cell_type": "code",
   "execution_count": null,
   "id": "c146ea65",
   "metadata": {
    "vscode": {
     "languageId": "csharp"
    }
   },
   "outputs": [],
   "source": [
    "public Unsplash()\n",
    "{\n",
    "    _accessKey = Environment.GetEnvironmentVariable(\"UNSPLASH_ACCESS_KEY\")\n",
    "                 ?? throw new Exception(\"Missing Unsplash API key. Set UNSPLASH_ACCESS_KEY as an environment variable.\");\n",
    "\n",
    "    _httpClient = new HttpClient\n",
    "    {\n",
    "        BaseAddress = new Uri(BaseUrl)\n",
    "    };\n",
    "\n",
    "    _httpClient.DefaultRequestHeaders.Authorization =\n",
    "        new AuthenticationHeaderValue(\"Client-ID\", _accessKey);\n",
    "}"
   ]
  },
  {
   "cell_type": "markdown",
   "id": "a0078124",
   "metadata": {},
   "source": [
    "This method makes an HTTP GET request to the Unsplash API using GetAsync(), randomly generating images to a certain default count. JSON deserialization processes the HTTP request and converts the APi response into a list of UnsplashImage objects, which the app can use to display"
   ]
  },
  {
   "cell_type": "code",
   "execution_count": null,
   "id": "a0887025",
   "metadata": {
    "vscode": {
     "languageId": "csharp"
    }
   },
   "outputs": [],
   "source": [
    "public async Task<List<UnsplashImage>> GetRandomImagesAsync(int count = 5)\n",
    "{\n",
    "    var response = await _httpClient.GetAsync($\"photos/random?count={count}\");\n",
    "\n",
    "    if (!response.IsSuccessStatusCode)\n",
    "        throw new HttpRequestException($\"Unsplash API error: {response.StatusCode}\");\n",
    "\n",
    "    var content = await response.Content.ReadAsStringAsync();\n",
    "\n",
    "    var images = JsonSerializer.Deserialize<List<UnsplashImage>>(content, new JsonSerializerOptions\n",
    "    {\n",
    "        PropertyNameCaseInsensitive = true\n",
    "    });\n",
    "\n",
    "    return images ?? new List<UnsplashImage>();\n",
    "}"
   ]
  }
 ],
 "metadata": {
  "language_info": {
   "name": "python"
  }
 },
 "nbformat": 4,
 "nbformat_minor": 5
}
