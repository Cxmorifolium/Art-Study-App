{
 "cells": [
  {
   "cell_type": "markdown",
   "id": "6801a3e4",
   "metadata": {},
   "source": [
    "The ImagePromptViewModel handles user interactions and image data presentation by coordinating with the Unsplash service, following the MVVM pattern for clean separation of logic and UI."
   ]
  },
  {
   "cell_type": "markdown",
   "id": "ceb82d22",
   "metadata": {},
   "source": [
    "- _unsplashService: handles API calls to fetch images from Unsplash- \n",
    "- DefaultImageCount and AdditionalImages: are constants defining the initial loading state and on demand\n",
    "- isLoading: tracks whether an image oepration is in progress\n",
    "- _undoStack: stores deleted images and their position for undo functionality\n",
    "- Images: observable collection of ImageItems objects bound to the UI"
   ]
  },
  {
   "cell_type": "code",
   "execution_count": null,
   "id": "ba7cfde3",
   "metadata": {
    "vscode": {
     "languageId": "csharp"
    }
   },
   "outputs": [],
   "source": [
    "private readonly Unsplash _unsplashService;\n",
    "private const int DefaultImageCount = 3;\n",
    "private const int AdditionalImages = 1;\n",
    "private bool _isLoading;\n",
    "\n",
    "private readonly Stack<(ImageItem item, int index)> _undoStack = new();\n",
    "\n",
    "public ObservableCollection<ImageItem> Images { get; } = new();"
   ]
  },
  {
   "cell_type": "markdown",
   "id": "b65a4e1e",
   "metadata": {},
   "source": [
    "The boolean properties below manages UI state and interactivity\n",
    "<break>\n",
    "\n",
    "- IsLoading: whether an image operation is in progress and notifies OUI of state changes and updates command avaliability.\n",
    "- CanUndo: returns true if there are deleted inmages in the undo stack to enable the Undo command."
   ]
  },
  {
   "cell_type": "code",
   "execution_count": null,
   "id": "df92b6d6",
   "metadata": {
    "vscode": {
     "languageId": "csharp"
    }
   },
   "outputs": [],
   "source": [
    "public bool IsLoading\n",
    "{\n",
    "    get => _isLoading;\n",
    "    set\n",
    "    {\n",
    "        if (_isLoading != value)\n",
    "        {\n",
    "            _isLoading = value;\n",
    "            OnPropertyChanged();\n",
    "            CommandsCanExecuteChanged();\n",
    "        }\n",
    "    }\n",
    "}\n",
    "\n",
    "public bool CanUndo => _undoStack.Count > 0;"
   ]
  },
  {
   "cell_type": "markdown",
   "id": "bf75a0fb",
   "metadata": {},
   "source": [
    "[ICommand](https://learn.microsoft.com/en-us/dotnet/api/system.windows.input.icommand?view=net-9.0)s connect UI actions (buttons) to code method. "
   ]
  },
  {
   "cell_type": "code",
   "execution_count": null,
   "id": "ba2cf586",
   "metadata": {
    "vscode": {
     "languageId": "csharp"
    }
   },
   "outputs": [],
   "source": [
    "public ICommand LoadInitialImagesCommand { get; }\n",
    "public ICommand AddImagesCommand { get; }\n",
    "public ICommand RegenerateImagesCommand { get; }\n",
    "public ICommand ToggleLockCommand { get; }\n",
    "public ICommand DeleteImageCommand { get; }\n",
    "public ICommand UndoDeleteCommand { get; }"
   ]
  },
  {
   "cell_type": "markdown",
   "id": "3d555fec",
   "metadata": {},
   "source": [
    "Constructor:\n",
    "- Initializes the ImagePromptViewModwl by setting up the command bindings for image operations (Load, Add, Regenerate, Lock, Delete, Undo).\n",
    "- The last line ensures that initial images are loaded on teh main thread, guaranteeing UI responsiveness during image fetching."
   ]
  },
  {
   "cell_type": "code",
   "execution_count": null,
   "id": "4b95d31e",
   "metadata": {
    "vscode": {
     "languageId": "csharp"
    }
   },
   "outputs": [],
   "source": [
    "public ImagePromptViewModel()\n",
    "{\n",
    "    _unsplashService = new Unsplash();\n",
    "\n",
    "    LoadInitialImagesCommand = new Command(async () => await LoadInitialImagesAsync(), () => !IsLoading);\n",
    "    AddImagesCommand = new Command(async () => await AddImagesAsync(), () => !IsLoading);\n",
    "    RegenerateImagesCommand = new Command(async () => await RegenerateImagesAsync(), () => !IsLoading);\n",
    "    ToggleLockCommand = new Command<ImageItem>(ToggleLock);\n",
    "    DeleteImageCommand = new Command<ImageItem>(DeleteImage);\n",
    "    UndoDeleteCommand = new Command(UndoDelete, () => CanUndo);\n",
    "\n",
    "    // Load initial images on main thread\n",
    "    MainThread.BeginInvokeOnMainThread(async () => await LoadInitialImagesAsync());\n",
    "}"
   ]
  },
  {
   "cell_type": "markdown",
   "id": "5274b2bf",
   "metadata": {},
   "source": [
    "Command Logic:\n",
    "<break>\n",
    "\n",
    "This section defines methods for managing image operations within the class (loading initial images, regenerating images, toggling lock state, undoing deletion). These methods helps control the state and functionality of the UI.\n",
    "<break>\n",
    "\n",
    "Example in LoadInitialImageAsync(), this method fetches a predefined number of random images from the API, updates the observable collection, and notifies the UI while handling any potential erros."
   ]
  },
  {
   "cell_type": "code",
   "execution_count": null,
   "id": "a6477733",
   "metadata": {
    "vscode": {
     "languageId": "csharp"
    }
   },
   "outputs": [],
   "source": [
    "private async Task LoadInitialImagesAsync()\n",
    "{\n",
    "    try\n",
    "    {\n",
    "        IsLoading = true;\n",
    "        Images.Clear();\n",
    "\n",
    "        var images = await _unsplashService.GetRandomImagesAsync(DefaultImageCount);\n",
    "        foreach (var image in images)\n",
    "        {\n",
    "            Images.Add(new ImageItem(image));\n",
    "        }\n",
    "    }\n",
    "    catch (Exception ex)\n",
    "    {\n",
    "        Console.WriteLine($\"Error fetching images: {ex.Message}\");\n",
    "    }\n",
    "    finally\n",
    "    {\n",
    "        IsLoading = false;\n",
    "    }\n",
    "}\n",
    "\n",
    "private async Task RegenerateImagesAsync() {}\n",
    "\n",
    "private void ToggleLock(ImageItem? imageItem){}\n",
    "\n",
    "private void UndoDelete() {}\n"
   ]
  },
  {
   "cell_type": "markdown",
   "id": "125c1172",
   "metadata": {},
   "source": [
    "This method implements a Snackbar that notifies the user when an image is deleted or undone, displaying the notification for 5 seconds before it disappears."
   ]
  },
  {
   "cell_type": "code",
   "execution_count": null,
   "id": "5626fda8",
   "metadata": {
    "vscode": {
     "languageId": "csharp"
    }
   },
   "outputs": [],
   "source": [
    "private async void DeleteImage(ImageItem? imageItem)\n",
    "{\n",
    "    if (imageItem != null && Images.Contains(imageItem))\n",
    "    {\n",
    "        int index = Images.IndexOf(imageItem);\n",
    "        _undoStack.Push((imageItem, index));\n",
    "        Images.RemoveAt(index);\n",
    "\n",
    "        OnPropertyChanged(nameof(CanUndo));\n",
    "        ((Command)UndoDeleteCommand).ChangeCanExecute();\n",
    "\n",
    "        var snackbar = Snackbar.Make(\n",
    "            \"Image deleted\",\n",
    "            () => UndoDelete(),\n",
    "            \"Undo\",\n",
    "            TimeSpan.FromSeconds(5));\n",
    "\n",
    "        await snackbar.Show();\n",
    "    }\n",
    "}"
   ]
  },
  {
   "cell_type": "markdown",
   "id": "fe4da8d1",
   "metadata": {},
   "source": [
    "This method updates the executable state of the image-related commands and notifies the UI of potential changes to the undo functionality."
   ]
  },
  {
   "cell_type": "code",
   "execution_count": null,
   "id": "20f9361b",
   "metadata": {
    "vscode": {
     "languageId": "csharp"
    }
   },
   "outputs": [],
   "source": [
    "private void CommandsCanExecuteChanged()\n",
    "{\n",
    "    ((Command)AddImagesCommand).ChangeCanExecute();\n",
    "    ((Command)RegenerateImagesCommand).ChangeCanExecute();\n",
    "    ((Command)UndoDeleteCommand).ChangeCanExecute();\n",
    "    OnPropertyChanged(nameof(CanUndo));\n",
    "}"
   ]
  },
  {
   "cell_type": "markdown",
   "id": "6f3f25fa",
   "metadata": {},
   "source": [
    "This section defines the ImageItem class, which controls the state of UI elements (such as lock and delete buttons) based on the IsLocked and IsDeleted properties. It also determines the appropriate icon for the delete/undo button."
   ]
  },
  {
   "cell_type": "code",
   "execution_count": null,
   "id": "cf3c0245",
   "metadata": {
    "vscode": {
     "languageId": "csharp"
    }
   },
   "outputs": [],
   "source": [
    "// A snipper:\n",
    "public class ImageItem : INotifyPropertyChanged\n",
    "{\n",
    "    private bool _isLocked;\n",
    "    private bool _isDeleted;\n",
    "\n",
    "    public UnsplashImage UnsplashImage { get; }\n",
    "\n",
    "    public bool IsLocked\n",
    "    {\n",
    "        get => _isLocked;\n",
    "        set\n",
    "        {\n",
    "            if (_isLocked != value)\n",
    "            {\n",
    "                _isLocked = value;\n",
    "                OnPropertyChanged();\n",
    "            }\n",
    "        }\n",
    "    }\n",
    "    // ETC\n",
    "}"
   ]
  },
  {
   "cell_type": "markdown",
   "id": "42a2b56c",
   "metadata": {},
   "source": [
    "Interface: [INotifyPropertyChange](https://learn.microsoft.com/en-us/dotnet/api/system.runtime.compilerservices.callermembernameattribute?view=net-9.0) implementation using OnPropertyChanged method with CallerMemberName attribute:\n",
    "\n",
    "\"Implementing the INotifyPropertyChanged interface when binding data. This interface allows the property of an object to notify a bound control that the property has changed, so that the control can display the updated information.\""
   ]
  },
  {
   "cell_type": "code",
   "execution_count": null,
   "id": "760dc69b",
   "metadata": {
    "vscode": {
     "languageId": "csharp"
    }
   },
   "outputs": [],
   "source": [
    "public event PropertyChangedEventHandler? PropertyChanged;\n",
    "\n",
    "protected virtual void OnPropertyChanged([CallerMemberName] string? propertyName = null)\n",
    "{\n",
    "    PropertyChanged?.Invoke(this, new PropertyChangedEventArgs(propertyName));\n",
    "}"
   ]
  }
 ],
 "metadata": {
  "language_info": {
   "name": "python"
  }
 },
 "nbformat": 4,
 "nbformat_minor": 5
}
