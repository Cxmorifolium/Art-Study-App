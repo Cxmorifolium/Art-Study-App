{
 "cells": [
  {
   "cell_type": "markdown",
   "id": "d29f12ed",
   "metadata": {},
   "source": [
    "The ValueConverter class, located in the Converter folder, serves as part of the MVVM architecture in the app. It facilitates the transformation of data between the ImagePromptViewModel and the ImagePromptPage(View), ensuring that values are appropriately formatted or adapted for UI binding.\n",
    "\n",
    "Each class inherits an interface called [IValueConverter](https://learn.microsoft.com/en-us/dotnet/api/system.windows.data.ivalueconverter?view=windowsdesktop-9.0), which is responsible for transforming a source value and back (VM to V; vice versa). The class will then implement Convert and ConvertBack methods."
   ]
  },
  {
   "cell_type": "markdown",
   "id": "08796481",
   "metadata": {},
   "source": [
    "BoolToVisibilityConverter\n",
    "- Converts a bool to bool-based visibility value (UI)\n",
    "- Converts back "
   ]
  },
  {
   "cell_type": "code",
   "execution_count": null,
   "id": "78f5c6d4",
   "metadata": {
    "vscode": {
     "languageId": "csharp"
    }
   },
   "outputs": [],
   "source": [
    "public class BoolToVisibilityConverter : IValueConverter\n",
    "{\n",
    "    public object? Convert(object? value, Type targetType, object? parameter, CultureInfo culture)\n",
    "    {\n",
    "        if (value is bool boolValue)\n",
    "        {\n",
    "            return boolValue ? true : false;\n",
    "        }\n",
    "        return false;\n",
    "    }\n",
    "\n",
    "    public object? ConvertBack(object? value, Type targetType, object? parameter, CultureInfo culture)\n",
    "    {\n",
    "        return value is bool visibility && visibility == true;\n",
    "    }\n",
    "}"
   ]
  },
  {
   "cell_type": "markdown",
   "id": "632b5c02",
   "metadata": {},
   "source": [
    "InverseBoolConverter\n",
    "- Inverts a bool value"
   ]
  },
  {
   "cell_type": "code",
   "execution_count": null,
   "id": "cec3cc20",
   "metadata": {
    "vscode": {
     "languageId": "csharp"
    }
   },
   "outputs": [],
   "source": [
    "public class InverseBoolConverter : IValueConverter\n",
    "{\n",
    "    public object? Convert(object? value, Type targetType, object? parameter, CultureInfo culture)\n",
    "        => value is bool b && !b;\n",
    "\n",
    "    public object? ConvertBack(object? value, Type targetType, object? parameter, CultureInfo culture)\n",
    "        => throw new NotImplementedException();\n",
    "}"
   ]
  },
  {
   "cell_type": "markdown",
   "id": "b1e677ad",
   "metadata": {},
   "source": [
    "BoolToLockColorConverter\n",
    "- Converts a bool to a Color, used to visually represent a lock state (e.g when locked border is gold, when unlocked it's gray)\n",
    "- Does not convert back"
   ]
  },
  {
   "cell_type": "code",
   "execution_count": null,
   "id": "02a36a8c",
   "metadata": {
    "vscode": {
     "languageId": "csharp"
    }
   },
   "outputs": [],
   "source": [
    "public class BoolToLockColorConverter : IValueConverter\n",
    "{\n",
    "    public object? Convert(object? value, Type targetType, object? parameter, CultureInfo culture)\n",
    "    {\n",
    "        if (value is bool isLocked)\n",
    "        {\n",
    "            return isLocked ? Colors.Gold : Colors.LightGray;\n",
    "        }\n",
    "        return Colors.LightGray;\n",
    "    }\n",
    "\n",
    "    public object? ConvertBack(object? value, Type targetType, object? parameter, CultureInfo culture)\n",
    "    {\n",
    "        throw new NotImplementedException();\n",
    "    }\n",
    "}"
   ]
  },
  {
   "cell_type": "markdown",
   "id": "665f841d",
   "metadata": {},
   "source": [
    "BoolToLockIconConverter\n",
    "- Converts a bool to an icon filename string\n",
    "- Returns a \"padlock.png\" icon if true (locked), and \"unlock.png\" if false (unlocked)\n",
    "- Does not convert back"
   ]
  },
  {
   "cell_type": "code",
   "execution_count": null,
   "id": "fdce9217",
   "metadata": {
    "vscode": {
     "languageId": "csharp"
    }
   },
   "outputs": [],
   "source": [
    "public class BoolToLockIconConverter : IValueConverter\n",
    "{\n",
    "    public object? Convert(object? value, Type targetType, object? parameter, CultureInfo culture)\n",
    "    {\n",
    "        if (value is bool isLocked)\n",
    "        {\n",
    "            return isLocked ? \"padlock.png\" : \"unlock.png\";\n",
    "        }\n",
    "        return \"unlock.png\";\n",
    "    }\n",
    "\n",
    "    public object? ConvertBack(object? value, Type targetType, object? parameter, CultureInfo culture)\n",
    "    {\n",
    "        throw new NotImplementedException();\n",
    "    }\n",
    "}"
   ]
  }
 ],
 "metadata": {
  "language_info": {
   "name": "python"
  }
 },
 "nbformat": 4,
 "nbformat_minor": 5
}
