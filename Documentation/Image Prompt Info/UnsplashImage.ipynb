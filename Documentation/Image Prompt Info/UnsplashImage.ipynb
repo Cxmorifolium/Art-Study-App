{
 "cells": [
  {
   "cell_type": "markdown",
   "id": "47a0bc0c",
   "metadata": {},
   "source": [
    "The UnsplashImage class represents the Model layer in the MVVM (Model-View-ViewModel) pattern. It defines the structure for image data retrieved from the Unsplash API and is used for JSON deserialization."
   ]
  },
  {
   "cell_type": "code",
   "execution_count": null,
   "id": "abaa3c1c",
   "metadata": {
    "vscode": {
     "languageId": "csharp"
    }
   },
   "outputs": [],
   "source": [
    "namespace artstudio.Models\n",
    "{\n",
    "    public class UnsplashImage\n",
    "    {\n",
    "        public string? Id { get; set; }\n",
    "        public string? Description { get; set; }\n",
    "        public Urls? urls { get; set; }\n",
    "        public User? user { get; set; }\n",
    "\n",
    "        public class Urls\n",
    "        {\n",
    "            public string? Raw { get; set; }\n",
    "            public string? Full { get; set; }\n",
    "            public string? Regular { get; set; }\n",
    "            public string? Small { get; set; }\n",
    "            public string? Thumb { get; set; }\n",
    "        }\n",
    "\n",
    "        public class User\n",
    "        {\n",
    "            public string? Name { get; set; }\n",
    "            public string? Portfolio_Url { get; set; }\n",
    "        }\n",
    "    }\n",
    "}\n"
   ]
  }
 ],
 "metadata": {
  "language_info": {
   "name": "python"
  }
 },
 "nbformat": 4,
 "nbformat_minor": 5
}
