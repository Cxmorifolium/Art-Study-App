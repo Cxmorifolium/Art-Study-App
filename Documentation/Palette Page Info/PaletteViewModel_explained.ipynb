{
 "cells": [
  {
   "cell_type": "markdown",
   "id": "2e5be7a2",
   "metadata": {},
   "source": [
    "## Explaning the structure of PaletteViewModel"
   ]
  },
  {
   "cell_type": "markdown",
   "id": "2437c88b",
   "metadata": {
    "vscode": {
     "languageId": "polyglot-notebook"
    }
   },
   "source": [
    "PaletteViewModel implements the ViewModel part of MVVM (Model-View-ViewModel) pattern in .NET MAUI"
   ]
  },
  {
   "cell_type": "markdown",
   "id": "c314e9c1",
   "metadata": {},
   "source": [
    "ObservableCollection: https://learn.microsoft.com/en-us/dotnet/api/system.collections.objectmodel.observablecollection-1?view=net-9.0\n",
    "+ It is a special collection that notifies the UI when items are added, removed, or refreshed, in this case the Swatch Objects which will automatically update based on their bound conditions to UI elements\n",
    "\n",
    "\n",
    "In the following snippet, the constructor creates five Swatch objects with predefined colors, the UI binds to the Swatches properties to display the defined initial colors, and under ObservableCollection, the UI will show the colors right away."
   ]
  },
  {
   "cell_type": "code",
   "execution_count": null,
   "id": "3a0383b8",
   "metadata": {
    "vscode": {
     "languageId": "polyglot-notebook"
    }
   },
   "outputs": [],
   "source": [
    "Swatches = new ObservableCollection<Swatch>\n",
    "            {\n",
    "                new Swatch(Colors.LightSalmon),\n",
    "                new Swatch(Colors.SkyBlue),\n",
    "                new Swatch(Colors.MediumSeaGreen),\n",
    "                new Swatch(Colors.Goldenrod),\n",
    "                new Swatch(Colors.MediumOrchid)\n",
    "            };"
   ]
  },
  {
   "cell_type": "markdown",
   "id": "902f0ea0",
   "metadata": {},
   "source": [
    "The constructor also sets up the RegenerateCommand to exeucte the GeneratePalette method when triggered."
   ]
  },
  {
   "cell_type": "code",
   "execution_count": null,
   "id": "8d60deb1",
   "metadata": {
    "vscode": {
     "languageId": "polyglot-notebook"
    }
   },
   "outputs": [],
   "source": [
    "RegenerateCommand = new Command(GeneratePalette);"
   ]
  },
  {
   "cell_type": "markdown",
   "id": "45af5577",
   "metadata": {},
   "source": [
    "The GeneratePalette method creates a new Random object to generate random numbers. it loops through each swatch in collection to create a new color from RGBvalues. It does not modify locked swatches due to the logic in Swatch.Color property."
   ]
  },
  {
   "cell_type": "markdown",
   "id": "9411be4b",
   "metadata": {},
   "source": [
    "private void GeneratePalette()\n",
    "{\n",
    "    var random = new Random();\n",
    "    for (int i = 0; i < Swatches.Count; i++)\n",
    "    {\n",
    "        Swatches[i].Color = Color.FromRgb(\n",
    "            random.Next(256),\n",
    "            random.Next(256),\n",
    "            random.Next(256));\n",
    "    }\n",
    "}"
   ]
  }
 ],
 "metadata": {
  "language_info": {
   "name": "python"
  }
 },
 "nbformat": 4,
 "nbformat_minor": 5
}
