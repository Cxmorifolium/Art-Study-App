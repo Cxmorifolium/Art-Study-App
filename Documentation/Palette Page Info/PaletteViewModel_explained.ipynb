{
 "cells": [
  {
   "cell_type": "markdown",
   "id": "2e5be7a2",
   "metadata": {},
   "source": [
    "## Explaning the structure of PaletteViewModel"
   ]
  },
  {
   "cell_type": "markdown",
   "id": "2437c88b",
   "metadata": {
    "vscode": {
     "languageId": "polyglot-notebook"
    }
   },
   "source": [
    "PaletteViewModel implements the ViewModel part of MVVM (Model-View-ViewModel) pattern in .NET MAUI"
   ]
  },
  {
   "cell_type": "markdown",
   "id": "0620fa2c",
   "metadata": {},
   "source": [
    "The private fields below support palette export feature"
   ]
  },
  {
   "cell_type": "code",
   "execution_count": null,
   "id": "779a1e9d",
   "metadata": {
    "vscode": {
     "languageId": "polyglot-notebook"
    }
   },
   "outputs": [],
   "source": [
    "private readonly IFileSaveService _fileSaveService; // Image to local storage\n",
    "private readonly Export _exportService; // general export feature"
   ]
  },
  {
   "cell_type": "markdown",
   "id": "53c44108",
   "metadata": {},
   "source": [
    "The bool below manages toolbar state for marking palette as a favorite (not yet implemented)"
   ]
  },
  {
   "cell_type": "code",
   "execution_count": null,
   "id": "686ff1c9",
   "metadata": {
    "vscode": {
     "languageId": "polyglot-notebook"
    }
   },
   "outputs": [],
   "source": [
    "private bool _isFavoritePalette;"
   ]
  },
  {
   "cell_type": "markdown",
   "id": "c314e9c1",
   "metadata": {},
   "source": [
    "[ObservableCollection](https://learn.microsoft.com/en-us/dotnet/api/system.collections.objectmodel.observablecollection-1?view=net-9.0): \n",
    "+ It is a special collection that notifies the UI when items are added, removed, or refreshed, in this case the Swatch Objects which will automatically update based on their bound conditions to UI elements\n",
    "\n",
    "\n",
    "In the following snippet, the constructor hold swatch data, where each item is an instance of the Swatch model. "
   ]
  },
  {
   "cell_type": "code",
   "execution_count": null,
   "id": "3a0383b8",
   "metadata": {
    "vscode": {
     "languageId": "polyglot-notebook"
    }
   },
   "outputs": [],
   "source": [
    "public ObservableCollection<Swatch> Swatches { get; set; }"
   ]
  },
  {
   "cell_type": "markdown",
   "id": "902f0ea0",
   "metadata": {},
   "source": [
    "The constructor also sets up the RegenerateCommand to exeucte the GeneratePalette method when triggered."
   ]
  },
  {
   "cell_type": "code",
   "execution_count": null,
   "id": "8d60deb1",
   "metadata": {
    "vscode": {
     "languageId": "polyglot-notebook"
    }
   },
   "outputs": [],
   "source": [
    "public ICommand RegenerateCommand { get; }\n",
    "public ICommand ExportPaletteCommand { get; }\n",
    "public ICommand ToggleFavoritePaletteCommand { get; }"
   ]
  },
  {
   "cell_type": "markdown",
   "id": "5e3dba21",
   "metadata": {},
   "source": [
    "PaletteViewModel Constructor\n",
    "<break>\n",
    "\n",
    "Here, the constructor initializes dependencies, states, and commands of:\n",
    "1. Dependency Injection: File Save and Export\n",
    "2. Swatch Initialization: default colors view\n",
    "3. Command InitializationL: binds UI actions to logic\n",
    "4. PropertyChanged Event Setup: adds a no-op event handler to prevent null reference issues during property change notification"
   ]
  },
  {
   "cell_type": "code",
   "execution_count": null,
   "id": "ef0452a5",
   "metadata": {
    "vscode": {
     "languageId": "polyglot-notebook"
    }
   },
   "outputs": [],
   "source": [
    "public PaletteViewModel(IFileSaveService fileSaveService, Export exportService)\n",
    "{\n",
    "    _fileSaveService = fileSaveService ?? throw new ArgumentNullException(nameof(fileSaveService));\n",
    "    _exportService = exportService ?? throw new ArgumentNullException(nameof(exportService));\n",
    "\n",
    "    // Initialize swatches\n",
    "    Swatches = new ObservableCollection<Swatch>\n",
    "    {\n",
    "        new Swatch(Colors.LightSalmon),\n",
    "        new Swatch(Colors.SkyBlue),\n",
    "        new Swatch(Colors.MediumSeaGreen),\n",
    "        new Swatch(Colors.Goldenrod),\n",
    "        new Swatch(Colors.MediumOrchid)\n",
    "    };\n",
    "\n",
    "    // Initialize commands\n",
    "    RegenerateCommand = new Command(GeneratePalette);\n",
    "    ToggleFavoritePaletteCommand = new Command(() => IsFavoritePalette = !IsFavoritePalette);\n",
    "    ExportPaletteCommand = new Command(async () => await ExportPaletteAsync());\n",
    "\n",
    "    // Prevent null event handlers\n",
    "    PropertyChanged += (sender, args) => { };\n",
    "}"
   ]
  },
  {
   "cell_type": "markdown",
   "id": "45af5577",
   "metadata": {},
   "source": [
    "The GeneratePalette method creates a new Random object to generate random numbers. it loops through each swatch in collection to create a new color from RGBvalues. It does not modify locked swatches due to the logic in Swatch.IsLocked property."
   ]
  },
  {
   "cell_type": "code",
   "execution_count": null,
   "id": "9411be4b",
   "metadata": {
    "vscode": {
     "languageId": "csharp"
    }
   },
   "outputs": [],
   "source": [
    "private void GeneratePalette()\n",
    "{\n",
    "    var random = new Random();\n",
    "\n",
    "    foreach (var swatch in Swatches)\n",
    "    {\n",
    "        if (swatch.IsDeleted)\n",
    "        {\n",
    "            swatch.Color = swatch.PreviousColor;\n",
    "            swatch.IsDeleted = false;\n",
    "            swatch.IsActive = false;\n",
    "        }\n",
    "\n",
    "        if (!swatch.IsLocked)\n",
    "        {\n",
    "            swatch.Color = Color.FromRgb(\n",
    "                random.Next(256),\n",
    "                random.Next(256),\n",
    "                random.Next(256));\n",
    "        }\n",
    "\n",
    "        swatch.OnPropertyChanged(nameof(swatch.Color));\n",
    "        swatch.OnPropertyChanged(nameof(swatch.ButtonVisible));\n",
    "        swatch.OnPropertyChanged(nameof(swatch.DeleteButtonVisible));\n",
    "    }\n",
    "}"
   ]
  },
  {
   "cell_type": "markdown",
   "id": "08454402",
   "metadata": {},
   "source": [
    "The [Task](https://learn.microsoft.com/en-us/dotnet/csharp/asynchronous-programming/task-asynchronous-programming-model) [Asyncrhonous](https://learn.microsoft.com/en-us/dotnet/csharp/asynchronous-programming/) Method for Saving and Exporting\n",
    "<break>\n",
    "\n",
    "- Async: enables asynchronous operations without blocking UI thread, i.g. exporting a file.\n",
    "- Task: represents an asynchronous operation that does return a result, rather it runs in the background and completes at some point in the program.\n",
    "<break>\n",
    "\n",
    "(code snippet is too long so I'll break it up and comment)"
   ]
  },
  {
   "cell_type": "code",
   "execution_count": null,
   "id": "1f1320ac",
   "metadata": {
    "vscode": {
     "languageId": "csharp"
    }
   },
   "outputs": [],
   "source": [
    "private async Task ExportPaletteAsync()"
   ]
  },
  {
   "cell_type": "markdown",
   "id": "67eb1360",
   "metadata": {},
   "source": [
    "activeColors filters for any swatch are are not marked as deleted, then forms the palette to be exported"
   ]
  },
  {
   "cell_type": "code",
   "execution_count": null,
   "id": "9d111e53",
   "metadata": {
    "vscode": {
     "languageId": "csharp"
    }
   },
   "outputs": [],
   "source": [
    "var activeColors = Swatches\n",
    "    .Where(s => !s.IsDeleted)\n",
    "    .Select(s => s.Color)\n",
    "    .ToList();\n"
   ]
  },
  {
   "cell_type": "markdown",
   "id": "dc58e9c2",
   "metadata": {},
   "source": [
    "If there are no colors, there's nothing to export"
   ]
  },
  {
   "cell_type": "code",
   "execution_count": null,
   "id": "88dfbbb5",
   "metadata": {
    "vscode": {
     "languageId": "csharp"
    }
   },
   "outputs": [],
   "source": [
    "if (activeColors.Count == 0)\n",
    "{\n",
    "    var mainPage = Application.Current?.Windows.FirstOrDefault()?.Page;\n",
    "    if (mainPage != null)\n",
    "    {\n",
    "        await mainPage.DisplayAlert(\"Export\", \"No swatches to export.\", \"OK\");\n",
    "    }\n",
    "    return;\n",
    "}"
   ]
  },
  {
   "cell_type": "markdown",
   "id": "cd41b7c1",
   "metadata": {},
   "source": [
    "Ensures application is running and page is initialized correctly before continuing with the operation."
   ]
  },
  {
   "cell_type": "code",
   "execution_count": null,
   "id": "3f6e257a",
   "metadata": {
    "vscode": {
     "languageId": "csharp"
    }
   },
   "outputs": [],
   "source": [
    "var currentPage = Application.Current?.Windows.FirstOrDefault()?.Page;\n",
    "if (currentPage == null) return;"
   ]
  },
  {
   "cell_type": "markdown",
   "id": "d9515168",
   "metadata": {},
   "source": [
    "Prompts user to choose between Sharing and Saving"
   ]
  },
  {
   "cell_type": "code",
   "execution_count": null,
   "id": "8ab58a9e",
   "metadata": {
    "vscode": {
     "languageId": "csharp"
    }
   },
   "outputs": [],
   "source": [
    "string action = await currentPage.DisplayActionSheet(\n",
    "    \"Choose export method\",\n",
    "    \"Cancel\",\n",
    "    null,\n",
    "    \"Share Palette\",\n",
    "    \"Save to File\"\n",
    ");"
   ]
  },
  {
   "cell_type": "markdown",
   "id": "e25447b5",
   "metadata": {},
   "source": [
    "Executes user's selection\n",
    "<break>\n",
    "\n",
    "Within the else if action, it generates an image representing the palette, construct a default name with current date and time, and saves via injected file service"
   ]
  },
  {
   "cell_type": "code",
   "execution_count": null,
   "id": "39c12329",
   "metadata": {
    "vscode": {
     "languageId": "csharp"
    }
   },
   "outputs": [],
   "source": [
    "if (action == \"Share Palette\")\n",
    "{\n",
    "    await SharePaletteAsync(activeColors);\n",
    "}\n",
    "else if (action == \"Save to File\")\n",
    "{\n",
    "    var imageBytes = await Export.GeneratePaletteImageAsync(activeColors);\n",
    "    var fileName = $\"palette_{DateTime.Now:yyyyMMdd_HHmmss}.png\";\n",
    "    await _fileSaveService.SaveFileAsync(imageBytes, fileName);\n",
    "}"
   ]
  },
  {
   "cell_type": "markdown",
   "id": "c9bcee51",
   "metadata": {},
   "source": [
    "And if the user selects \"Share Palette\" the method below executes"
   ]
  },
  {
   "cell_type": "code",
   "execution_count": null,
   "id": "acfe8460",
   "metadata": {
    "vscode": {
     "languageId": "csharp"
    }
   },
   "outputs": [],
   "source": [
    "private async Task SharePaletteAsync(List<Color> activeColors)\n",
    "{\n",
    "    var imageBytes = await Export.GeneratePaletteImageAsync(activeColors);\n",
    "    var fileName = $\"palette_{DateTime.Now:yyyyMMdd_HHmmss}.png\";\n",
    "\n",
    "    var tempFilePath = Path.Combine(FileSystem.CacheDirectory, fileName);\n",
    "    await File.WriteAllBytesAsync(tempFilePath, imageBytes);\n",
    "\n",
    "    await Share.RequestAsync(new ShareFileRequest\n",
    "    {\n",
    "        Title = \"Share Palette\",\n",
    "        File = new ShareFile(tempFilePath)\n",
    "    });\n",
    "}"
   ]
  },
  {
   "cell_type": "markdown",
   "id": "a5a1b083",
   "metadata": {},
   "source": [
    "Interface: [INotifyPropertyChange](https://learn.microsoft.com/en-us/dotnet/api/system.runtime.compilerservices.callermembernameattribute?view=net-9.0) implementation using OnPropertyChanged method with CallerMemberName attribute:\n",
    "\n",
    "\"Implementing the INotifyPropertyChanged interface when binding data. This interface allows the property of an object to notify a bound control that the property has changed, so that the control can display the updated information.\""
   ]
  },
  {
   "cell_type": "code",
   "execution_count": null,
   "id": "ac677bdf",
   "metadata": {
    "vscode": {
     "languageId": "csharp"
    }
   },
   "outputs": [],
   "source": [
    "public event PropertyChangedEventHandler? PropertyChanged;\n",
    "\n",
    "public void OnPropertyChanged([CallerMemberName] string name = null!)\n",
    "{\n",
    "    PropertyChanged?.Invoke(this, new PropertyChangedEventArgs(name));\n",
    "}"
   ]
  }
 ],
 "metadata": {
  "language_info": {
   "name": "python"
  }
 },
 "nbformat": 4,
 "nbformat_minor": 5
}
