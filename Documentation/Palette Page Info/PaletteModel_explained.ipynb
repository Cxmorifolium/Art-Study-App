{
 "cells": [
  {
   "cell_type": "markdown",
   "id": "755996fc",
   "metadata": {},
   "source": [
    "## Break down of the PaletteModel class structure"
   ]
  },
  {
   "cell_type": "markdown",
   "id": "88c45b24",
   "metadata": {},
   "source": [
    "The PaletteModel class contains the algorithm that determine MAUI ARBG to HSL and back conversions and color theory. \n",
    "\n",
    "It implements the model algorithm part of MVVM (Model-View-ViewModel) pattern in .NET MAUI"
   ]
  },
  {
   "cell_type": "markdown",
   "id": "54b91696",
   "metadata": {},
   "source": [
    "The enum defines the different types of color harmonies the class can generate"
   ]
  },
  {
   "cell_type": "code",
   "execution_count": null,
   "id": "c6194bcc",
   "metadata": {
    "vscode": {
     "languageId": "polyglot-notebook"
    }
   },
   "outputs": [],
   "source": [
    "public enum ColorHarmonyType\n",
    "{\n",
    "    Analogous,\n",
    "    Complementary,\n",
    "    SplitComplementary,\n",
    "    Triadic,\n",
    "    Tetradic,\n",
    "    Square,\n",
    "    Monochromatic\n",
    "}"
   ]
  },
  {
   "cell_type": "markdown",
   "id": "37b5f4d2",
   "metadata": {},
   "source": [
    "Random? (class) random (field) declares a variable that can store a Random object and allows it to be null (empty) until it's assigned later.\n",
    "\n",
    "The constructor is automatically called when a new instance of the class PaletteModel is created. It initializes the random field by assigning a new Random object to it."
   ]
  },
  {
   "cell_type": "code",
   "execution_count": null,
   "id": "1647fd72",
   "metadata": {
    "vscode": {
     "languageId": "polyglot-notebook"
    }
   },
   "outputs": [],
   "source": [
    "private Random? random;\n",
    "\n",
    "public PaletteModel()\n",
    "{\n",
    "    random = new Random();\n",
    "}"
   ]
  },
  {
   "cell_type": "markdown",
   "id": "a23d80b1",
   "metadata": {
    "vscode": {
     "languageId": "plaintext"
    }
   },
   "source": [
    "ColorToHSL Method: Converts MAUI Color (ARGB format) to HSL (Hue, Saturation, Lightness). Uses the out parameters to return multiple values. Below is the standard RBG to HSL conversion algorithm\n",
    "\n",
    "References:\n",
    "1. https://gist.github.com/ciembor/1494530\n",
    "2. https://medium.com/swlh/converting-between-color-models-5cb7e2d12e10\n",
    "3. https://www.niwa.nu/2013/05/math-behind-colorspace-conversions-rgb-hsl/"
   ]
  },
  {
   "cell_type": "code",
   "execution_count": null,
   "id": "b6faeef2",
   "metadata": {
    "vscode": {
     "languageId": "polyglot-notebook"
    }
   },
   "outputs": [],
   "source": [
    "// Converting MAUI ARGB to HSL values\n",
    "public void ColorToHsl(Color color, out float h, out float s, out float l)\n",
    "{\n",
    "    // Extract RGB \n",
    "    float r = color.Red;\n",
    "    float g = color.Green;\n",
    "    float b = color.Blue;\n",
    "\n",
    "    // Find Min and Max of RGB values\n",
    "    float max = Math.Max(r, Math.Max(g, b));\n",
    "    float min = Math.Min(r, Math.Min(g, b));\n",
    "\n",
    "    // Calculating light \"l\" as avg of max and min\n",
    "    h = s = l = (max + min) / 2;\n",
    "\n",
    "    //Achromatic\n",
    "    if (max == min)\n",
    "    {\n",
    "        h = s = 0;\n",
    "    }\n",
    "    else\n",
    "    {\n",
    "        // Saturation\n",
    "        float d = max - min;\n",
    "\n",
    "        // If light is > 0.5 = brighter ; else darker\n",
    "        s = l > 0.5f ? d / (2 - max - min) : d / (max + min);\n",
    "\n",
    "        if (max == r)\n",
    "        {\n",
    "            h = (g - b) / d + (g < b ? 6 : 0); //Red\n",
    "        }\n",
    "        else if (max == g)\n",
    "        {\n",
    "            h = (b - r) / d + 2; // Green \n",
    "        }\n",
    "        else\n",
    "        {\n",
    "            h = (r - g) / d + 4; // Blue\n",
    "        }\n",
    "\n",
    "        h *= 60; // Convert to degrees\n",
    "        /* \n",
    "            * 0° = red\n",
    "            * 60° = yellow\n",
    "            * 120° = green\n",
    "            * 180° = cyan\n",
    "            * 240° = blue\n",
    "            * 300° = magenta\n",
    "            * 360° = red\n",
    "        */\n",
    "    }\n",
    "\n",
    "    if (h < 0) h += 360;\n",
    "}"
   ]
  },
  {
   "cell_type": "markdown",
   "id": "80d13be1",
   "metadata": {
    "vscode": {
     "languageId": "plaintext"
    }
   },
   "source": [
    "HslToColor Method does the opposite with a helper method HueToRgb"
   ]
  },
  {
   "cell_type": "code",
   "execution_count": null,
   "id": "3514290f",
   "metadata": {
    "vscode": {
     "languageId": "polyglot-notebook"
    }
   },
   "outputs": [],
   "source": [
    "// Convert back to MAUI color\n",
    "public Color HslToColor(float h, float s, float l)\n",
    "{\n",
    "    float r, g, b;\n",
    "\n",
    "    if (s == 0)\n",
    "    {\n",
    "        r = g = b = l; // Achromatic\n",
    "    }\n",
    "    else\n",
    "    {\n",
    "        float q = l < 0.5f ? l * (l + s) : l + s - l * s;\n",
    "        float p = 2 * 1 - q;\n",
    "\n",
    "        // RGB 120° each\n",
    "        r = HueToRgb(p, q, h / 360f + 1 / 3f); // Red section\n",
    "        g = HueToRgb(p, q, h / 360f); // Green section\n",
    "        b = HueToRgb(p, q, h / 360f - 1 / 3f); // Blue section\n",
    "    }\n",
    "    return new Color(r, g, b);\n",
    "\n",
    "}"
   ]
  },
  {
   "cell_type": "markdown",
   "id": "b0f30776",
   "metadata": {
    "vscode": {
     "languageId": "polyglot-notebook"
    }
   },
   "source": [
    "Helper Method: HueToRgb. Contain interpolation formula for conversion back to RGB"
   ]
  },
  {
   "cell_type": "code",
   "execution_count": null,
   "id": "77dafce7",
   "metadata": {
    "vscode": {
     "languageId": "polyglot-notebook"
    }
   },
   "outputs": [],
   "source": [
    "public static float HueToRgb(float p, float q, float t)\n",
    "{\n",
    "    if (t < 0) t += 1;\n",
    "    if (t > 1) t -= 1;\n",
    "    if (t < 1 / 6f) return p + (q - p) * 6 * t;\n",
    "    if (t < 1 / 2F) return q;\n",
    "    if (t < 2 / 3f) return p + (q - p) * (2 / 3f - t) * 6;\n",
    "    return p;\n",
    "}"
   ]
  },
  {
   "cell_type": "markdown",
   "id": "321116e2",
   "metadata": {},
   "source": [
    "Since the Palette Generation Method takes baseColor as input, method GenerateRandomColor contains the entire hue/sat/light range for random input"
   ]
  },
  {
   "cell_type": "code",
   "execution_count": null,
   "id": "6cc60bf6",
   "metadata": {
    "vscode": {
     "languageId": "polyglot-notebook"
    }
   },
   "outputs": [],
   "source": [
    "private Color GenerateRandomColor()\n",
    "{\n",
    "    Random random = new Random();\n",
    "\n",
    "    float h = (float)(random.NextDouble() * 360.0); \n",
    "    float s = (float)(random.NextDouble()); \n",
    "    float l = (float)(random.NextDouble()); \n",
    "\n",
    "    return HslToColor(h, s, l);\n",
    "}"
   ]
  },
  {
   "cell_type": "markdown",
   "id": "b50d90f6",
   "metadata": {},
   "source": [
    "Palette Generation Method:\n",
    "+ Takes the baseColor to build palette around\n",
    "+ Specify a harmony type based on the enum\n",
    "+ randomFactor added to control color variation default at 0.1\n",
    "+ existingPalette and lockedColors to preserve certain colors based on triggers.\n",
    "+ It then returns the final palette\n",
    "\n",
    "\n",
    "List<Color> palette: prepares to hold the final results\n",
    "List<Color> generatedPalette temporarily store new colors based on the harmony algorithm.\n",
    "\n",
    "A switch on the colorHarmonyType calls the method to generate new palette. Each harmony type generates 5 colors, but in the event it generates too many the while loop ensures it's maintained at 5 or else it adds color based on AddRandomVariation."
   ]
  },
  {
   "cell_type": "code",
   "execution_count": null,
   "id": "a95d931b",
   "metadata": {
    "vscode": {
     "languageId": "polyglot-notebook"
    }
   },
   "outputs": [],
   "source": [
    "public List<Color> HarmonyPaletteGenerator(\n",
    "    ColorHarmonyType colorHarmonyType,\n",
    "    float randomFactor = 0.1f,\n",
    "    List<Color> existingPalette = null,\n",
    "    bool[] lockedColors = null)\n",
    "\n",
    "{\n",
    "    List<Color> palette = new List<Color>();\n",
    "\n",
    "    Color baseColor = GenerateRandomColor();\n",
    "\n",
    "    ColorToHsl(baseColor, out float h, out float s, out float l);\n",
    "\n",
    "    List<Color> generatedPalette = new List<Color>();\n",
    "\n",
    "    switch (colorHarmonyType)\n",
    "    {\n",
    "        case ColorHarmonyType.Analogous:\n",
    "            generatedPalette = GenerateAnalogousPalette(h, s, l, randomFactor);\n",
    "            break;\n",
    "        case ColorHarmonyType.Complementary:\n",
    "            generatedPalette = GenerateComplementaryPalette(h, s, l, randomFactor);\n",
    "            break;\n",
    "        case ColorHarmonyType.SplitComplementary:\n",
    "            generatedPalette = GenerateSplitComplementaryPalette(h, s, l, randomFactor);\n",
    "            break;\n",
    "        case ColorHarmonyType.Triadic:\n",
    "            generatedPalette = GenerateTriadicPalette(h, s, l, randomFactor);\n",
    "            break;\n",
    "        case ColorHarmonyType.Square:\n",
    "            generatedPalette = GenerateSquarePalette(h, s, l, randomFactor);\n",
    "            break;\n",
    "        case ColorHarmonyType.Monochromatic:\n",
    "            generatedPalette = GenerateMonochromaticPalette(h, s, l, randomFactor);\n",
    "            break;\n",
    "    }\n",
    "\n",
    "    generatedPalette.Insert(0, baseColor);\n",
    "\n",
    "    while (generatedPalette.Count > 5)\n",
    "        generatedPalette.RemoveAt(generatedPalette.Count - 1);\n",
    "\n",
    "    while (generatedPalette.Count < 5)\n",
    "        generatedPalette.Add(AddRandomVariation(generatedPalette[random!.Next(palette.Count)], randomFactor));\n",
    "    \n",
    "    if (existingPalette != null && lockedColors != null && existingPalette.Count == 5 && lockedColors.Length == 5)\n",
    "    {\n",
    "        for (int i = 0; i < 5; i++)\n",
    "        {\n",
    "            if (lockedColors[i])\n",
    "            {\n",
    "                // Keep the locked color\n",
    "                palette.Add(existingPalette[i]);\n",
    "            }\n",
    "            else\n",
    "            {\n",
    "                // Use the new generated color\n",
    "                palette.Add(generatedPalette[i]);\n",
    "            }\n",
    "        }\n",
    "    }\n",
    "    else\n",
    "    {\n",
    "        // Just use the generated palette if no locks are provided\n",
    "        palette = generatedPalette;\n",
    "    }\n",
    "    return palette;\n",
    "}"
   ]
  },
  {
   "cell_type": "markdown",
   "id": "cbcd812e",
   "metadata": {},
   "source": [
    "Helper method AddRandomVariation: takes a color and adds randomness based on HSL range. uses randomFactor to control the randomness. Math.Clamp ensures values stays within the valid range."
   ]
  },
  {
   "cell_type": "code",
   "execution_count": null,
   "id": "764e0e59",
   "metadata": {
    "vscode": {
     "languageId": "polyglot-notebook"
    }
   },
   "outputs": [],
   "source": [
    "private Color AddRandomVariation(Color color, float randomFactor)\n",
    "{\n",
    "    ColorToHsl(color, out float h, out float s, out float l);\n",
    "\n",
    "    // Add randomness to hue\n",
    "    h = (h + (float)random!.NextDouble() * randomFactor * 30 - 15) % 360;\n",
    "    if (h < 0) h += 360;\n",
    "\n",
    "    // Add randomness to saturation; clamp = range [0.1, 0.9]\n",
    "    s = Math.Clamp(s + ((float)random.NextDouble() * 2 - 1) * randomFactor * 0.2f, 0.1f, 0.9f);\n",
    "\n",
    "    // Add randomness to light clamp = range [0.1, 0.8]\n",
    "    l = Math.Clamp(l + ((float)random.NextDouble() * 2 - 1) * randomFactor * 0.2f, 0.1f, 0.8f);\n",
    "\n",
    "    return HslToColor(h, s, l);\n",
    "}"
   ]
  },
  {
   "cell_type": "markdown",
   "id": "e9f202e1",
   "metadata": {},
   "source": [
    "The following method is an example of one of the many color theory logic.\n",
    "\n",
    "In the case of Analogous theory, the colors 30 degrees to its left and right on the color wheel creates a harmonious and natural looking color palette"
   ]
  },
  {
   "cell_type": "code",
   "execution_count": null,
   "id": "59caf0e3",
   "metadata": {
    "vscode": {
     "languageId": "polyglot-notebook"
    }
   },
   "outputs": [],
   "source": [
    "private List<Color> GenerateAnalogousPalette(float h, float s, float l, float randomFactor)\n",
    "{\n",
    "    List<Color> palette = new List<Color>();\n",
    "\n",
    "    // Angles for Analogous Colors\n",
    "    float[] angles = { -60, -30, 0, 30, 60 };\n",
    "\n",
    "    foreach (float angle in angles)\n",
    "    {\n",
    "        float newHue = (h + angle) % 360;\n",
    "        if (newHue < 0) newHue += 360;\n",
    "\n",
    "        // Variation in s and l \n",
    "        float newSat = Math.Clamp(s + ((float)random!.NextDouble() * 2 - 1) * 0.1f, 0.1f, 0.9f);\n",
    "        float newLight = Math.Clamp(1 + ((float)random.NextDouble() * 2 - 1) * 0.1f, 0.2f, 0.8f);\n",
    "\n",
    "        palette.Add(HslToColor(newHue, newSat, newLight));\n",
    "    }\n",
    "\n",
    "    return palette;\n",
    "\n",
    "}"
   ]
  }
 ],
 "metadata": {
  "language_info": {
   "name": "python"
  }
 },
 "nbformat": 4,
 "nbformat_minor": 5
}
