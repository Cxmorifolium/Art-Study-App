{
 "cells": [
  {
   "cell_type": "markdown",
   "id": "9fb49c59",
   "metadata": {},
   "source": [
    "## Structure of the Swatch Class"
   ]
  },
  {
   "cell_type": "markdown",
   "id": "7195da14",
   "metadata": {},
   "source": [
    "Swatch implements the Model part of MVVM (Model-View-ViewModel) pattern in .NET MAUI which is then referenced in PaletteViewModel"
   ]
  },
  {
   "cell_type": "markdown",
   "id": "cf8b6c44",
   "metadata": {
    "vscode": {
     "languageId": "polyglot-notebook"
    }
   },
   "source": [
    "INotifyPropertyChanged: https://learn.microsoft.com/en-us/dotnet/api/system.componentmodel.inotifypropertychanged?view=net-9.0\n",
    "\n",
    "This class implements the interface that notifies the UI a property value has changed. In this regards the Swatch Class must have a way to raise an event when a property has changed such as button values and swatch values when the user interacts with the application\n",
    "\n",
    "OnPropertyChanged() for example"
   ]
  },
  {
   "cell_type": "code",
   "execution_count": null,
   "id": "198d6b14",
   "metadata": {
    "vscode": {
     "languageId": "plaintext"
    }
   },
   "outputs": [],
   "source": [
    "public class Swatch : INotifyPropertyChanged"
   ]
  },
  {
   "cell_type": "markdown",
   "id": "249c7f62",
   "metadata": {},
   "source": [
    "The following are private fields used to store the state of the swatch:"
   ]
  },
  {
   "cell_type": "code",
   "execution_count": null,
   "id": "f5267323",
   "metadata": {
    "vscode": {
     "languageId": "polyglot-notebook"
    }
   },
   "outputs": [],
   "source": [
    "private Color _color;\n",
    "private bool _isFavorite;\n",
    "private bool _isLocked;\n",
    "// private bool _isHovered; -> To use for future hover implementation\n",
    "private bool _isDeleted;\n",
    "private Color _previousColor;"
   ]
  },
  {
   "cell_type": "markdown",
   "id": "136ca43e",
   "metadata": {},
   "source": [
    "The color property have a get and set methods:\n",
    "+ get => _color means return what is sotre din the private _color field when asked\n",
    "+ set contains the logic when the user tries to change the Color property (in this context, presses the regenerate button)\n",
    "    + It checks first to proceed if the swatch is not locked\n",
    "    + It also checks if the color is different from the current\n",
    "        + When both conditions are true, the private field is updated with a new color and then OnPropertyChanged() notifies the UI so it can update visually on the swatch"
   ]
  },
  {
   "cell_type": "code",
   "execution_count": null,
   "id": "b173194a",
   "metadata": {
    "vscode": {
     "languageId": "polyglot-notebook"
    }
   },
   "outputs": [],
   "source": [
    "public Color Color\n",
    "{\n",
    "    get => _color;\n",
    "    set\n",
    "    {\n",
    "        if (!_isLocked && _color != value)\n",
    "        {\n",
    "            _color = value;\n",
    "            OnPropertyChanged();\n",
    "        }\n",
    "    }\n",
    "}"
   ]
  },
  {
   "cell_type": "markdown",
   "id": "0e21bbcb",
   "metadata": {
    "vscode": {
     "languageId": "polyglot-notebook"
    }
   },
   "source": [
    "The Image properties returns different images based on the state. It does not contain setters, but that's determined by its respective boolean property, thus is readonly. "
   ]
  },
  {
   "cell_type": "code",
   "execution_count": null,
   "id": "744b9b24",
   "metadata": {
    "vscode": {
     "languageId": "polyglot-notebook"
    }
   },
   "outputs": [],
   "source": [
    "// One of the Image Property\n",
    "public ImageSource FavoriteImage => ImageSource.FromFile(IsFavorite ? \"heart.png\" : \"unheart.png\");"
   ]
  },
  {
   "cell_type": "markdown",
   "id": "608c0dbd",
   "metadata": {},
   "source": [
    "The boolean properties manages the Swatch's state. If the button is clicked, switch to the appropriate response. Example: someone wnats to favorite the Swatch -> switch to Filled Heart image."
   ]
  },
  {
   "cell_type": "code",
   "execution_count": null,
   "id": "246915f2",
   "metadata": {
    "vscode": {
     "languageId": "polyglot-notebook"
    }
   },
   "outputs": [],
   "source": [
    "// One of the Boolean Property\n",
    "public bool IsFavorite\n",
    "{\n",
    "    get => _isFavorite;\n",
    "    set\n",
    "    {\n",
    "        if (_isFavorite != value)\n",
    "        {\n",
    "            _isFavorite = value;\n",
    "            OnPropertyChanged();\n",
    "            OnPropertyChanged(nameof(FavoriteImage));\n",
    "        }\n",
    "    }\n",
    "}"
   ]
  },
  {
   "cell_type": "markdown",
   "id": "6cd96b27",
   "metadata": {},
   "source": [
    "Commands connect UI actions (buttons) to code method. \n",
    "https://learn.microsoft.com/en-us/dotnet/api/system.windows.input.icommand?view=net-9.0"
   ]
  },
  {
   "cell_type": "code",
   "execution_count": null,
   "id": "5a1f20e4",
   "metadata": {
    "vscode": {
     "languageId": "polyglot-notebook"
    }
   },
   "outputs": [],
   "source": [
    "public ICommand ToggleFavoriteCommand { get; }"
   ]
  },
  {
   "cell_type": "markdown",
   "id": "c5dbcb21",
   "metadata": {},
   "source": [
    "The Swatch Construcotr initializes the swatch with initial colors and the commands to execute when user interacts with the UI"
   ]
  },
  {
   "cell_type": "code",
   "execution_count": null,
   "id": "8b47d5a9",
   "metadata": {
    "vscode": {
     "languageId": "polyglot-notebook"
    }
   },
   "outputs": [],
   "source": [
    "public Swatch(Color color)\n",
    "{\n",
    "    _color = color;\n",
    "\n",
    "    ToggleFavoriteCommand = new Command(() => IsFavorite = !IsFavorite);\n",
    "    ToggleLockCommand = new Command(() => IsLocked = !IsLocked);\n",
    "    ToggleDeleteCommand = new Command(ToggleDelete);\n",
    "    ToggleActivateCommand = new Command(() => IsActive = !IsActive);\n",
    "}"
   ]
  },
  {
   "cell_type": "markdown",
   "id": "d769954e",
   "metadata": {},
   "source": [
    "The following method have logic for a Delete command with an Undo option. It will switch buttons states when interacted as well as toggle the buttons visibility when the swatch is clicked."
   ]
  },
  {
   "cell_type": "code",
   "execution_count": null,
   "id": "433ab5e0",
   "metadata": {
    "vscode": {
     "languageId": "polyglot-notebook"
    }
   },
   "outputs": [],
   "source": [
    "// One of the methods\n",
    "private void ToggleDelete()\n",
    "{\n",
    "    if (IsDeleted)\n",
    "    {\n",
    "        Color = _previousColor;  \n",
    "        IsDeleted = false;\n",
    "        IsActive = false;\n",
    "        //OnPropertyChanged(nameof(Color));\n",
    "    }\n",
    "    else\n",
    "    {\n",
    "        _previousColor = Color;  \n",
    "        Color = Colors.Transparent; \n",
    "        IsDeleted = true;\n",
    "        IsActive = false;\n",
    "        //OnPropertyChanged(nameof(Color));\n",
    "    }\n",
    "\n",
    "    OnPropertyChanged(nameof(Color));\n",
    "    OnPropertyChanged(nameof(ButtonVisible));\n",
    "    OnPropertyChanged(nameof(DeleteButtonVisible));\n",
    "}"
   ]
  },
  {
   "cell_type": "markdown",
   "id": "3fdeda1f",
   "metadata": {},
   "source": [
    "Interace: INotifyPropertyChange implementation using OnPropertyChanged method with CallerMemberName attribute:\n",
    "\n",
    "\"Implementing the INotifyPropertyChanged interface when binding data. This interface allows the property of an object to notify a bound control that the property has changed, so that the control can display the updated information.\"\n",
    "\n",
    "https://learn.microsoft.com/en-us/dotnet/api/system.runtime.compilerservices.callermembernameattribute?view=net-9.0\n",
    "\n",
    "[CallerMemberName] automatically fills the parameter with the name of the method OnPropertyChanged."
   ]
  },
  {
   "cell_type": "code",
   "execution_count": null,
   "id": "f39d590f",
   "metadata": {
    "vscode": {
     "languageId": "polyglot-notebook"
    }
   },
   "outputs": [],
   "source": [
    "public event PropertyChangedEventHandler PropertyChanged;\n",
    "\n",
    "protected void OnPropertyChanged([CallerMemberName] string name = null) =>\n",
    "    PropertyChanged?.Invoke(this, new PropertyChangedEventArgs(name));"
   ]
  }
 ],
 "metadata": {
  "language_info": {
   "name": "python"
  }
 },
 "nbformat": 4,
 "nbformat_minor": 5
}
