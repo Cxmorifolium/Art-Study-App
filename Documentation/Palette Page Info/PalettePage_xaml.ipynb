{
 "cells": [
  {
   "cell_type": "code",
   "execution_count": null,
   "id": "e014e59a",
   "metadata": {
    "vscode": {
     "languageId": "plaintext"
    }
   },
   "outputs": [],
   "source": [
    "ContentPage (Parent)\n",
    "\n",
    "    ToolbarItems (Child)\n",
    "\n",
    "        Contains 3 ToolbarItem buttons.\n",
    "\n",
    "    VerticalStackLayout (Child)\n",
    "\n",
    "        Contains CollectionView (Child)\n",
    "\n",
    "            Displays Swatches.\n",
    "\n",
    "            Each item is a Grid with:\n",
    "\n",
    "                A BoxView for the color.\n",
    "\n",
    "                A VerticalStackLayout with:\n",
    "\n",
    "                    3 Buttons (for Favorite, Lock, Delete).\n",
    "\n",
    "                    A Label for displaying the hex code."
   ]
  }
 ],
 "metadata": {
  "language_info": {
   "name": "python"
  }
 },
 "nbformat": 4,
 "nbformat_minor": 5
}
